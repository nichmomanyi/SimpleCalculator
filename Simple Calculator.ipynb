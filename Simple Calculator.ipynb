{
 "cells": [
  {
   "cell_type": "code",
   "execution_count": null,
   "id": "0f3ca9a3",
   "metadata": {},
   "outputs": [
    {
     "name": "stdout",
     "output_type": "stream",
     "text": [
      "To add: **1**\n",
      "To substract: **2**\n",
      "To multiply: **3**\n",
      "To divide: **4**\n"
     ]
    }
   ],
   "source": [
    "def add (num1,num2):\n",
    "    return num1+num2\n",
    "\n",
    "def subtract (num1,num2):\n",
    "    return num1-num2\n",
    "\n",
    "def multiply (num1,num2):\n",
    "    return num1*num2\n",
    "\n",
    "def divide (num1,num2):\n",
    "    return num1/num2\n",
    "\n",
    "\n",
    "str(print(\"To add: **1**\"))\n",
    "str(print(\"To substract: **2**\"))\n",
    "str(print(\"To multiply: **3**\"))\n",
    "str(print(\"To divide: **4**\"))\n",
    "\n",
    "active=True\n",
    "while active:\n",
    "    operation=input(\"Enter operation(1,2,3,4): \")\n",
    "    if operation in (\"1\",\"2\",\"3\",\"4\"):\n",
    "        num1=float(input(\"Please enter the first Digit: \"))\n",
    "        num2=float(input(\"Please enter the Second Digit: \"))\n",
    "        if operation ==\"1\":\n",
    "            print(f\"{num1} + {num2} = {add(num1,num2)}\")\n",
    "        elif operation==\"2\":\n",
    "            print(f\"{num1} - {num2} = {subtract(num1,num2)}\")\n",
    "        elif operation==\"3\":\n",
    "            print(f\"{num1} * {num2} = {multiply(num1,num2)}\")\n",
    "        elif operation==\"4\":\n",
    "            print(f\"{num1} / {num2} = {divide(num1,num2)}\")\n",
    "        msg=input(\" Enter another opearation? (y/n)\")\n",
    "        if msg.lower==\"y\":\n",
    "            continue\n",
    "        elif msg.lower==\"n\":\n",
    "            active=False\n",
    "    else:\n",
    "        print(\"Invalid operation\")\n",
    "        break\n"
   ]
  },
  {
   "cell_type": "code",
   "execution_count": null,
   "id": "e641a847",
   "metadata": {},
   "outputs": [],
   "source": []
  }
 ],
 "metadata": {
  "kernelspec": {
   "display_name": "Python 3 (ipykernel)",
   "language": "python",
   "name": "python3"
  },
  "language_info": {
   "codemirror_mode": {
    "name": "ipython",
    "version": 3
   },
   "file_extension": ".py",
   "mimetype": "text/x-python",
   "name": "python",
   "nbconvert_exporter": "python",
   "pygments_lexer": "ipython3",
   "version": "3.9.12"
  }
 },
 "nbformat": 4,
 "nbformat_minor": 5
}
